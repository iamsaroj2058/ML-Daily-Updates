{
 "cells": [
  {
   "cell_type": "markdown",
   "id": "98bc9b38",
   "metadata": {},
   "source": [
    "## Setting up the conda  environment from  scratch"
   ]
  },
  {
   "cell_type": "markdown",
   "id": "6f2843ce",
   "metadata": {},
   "source": [
    "Command for making environment using  conda "
   ]
  },
  {
   "cell_type": "markdown",
   "id": "e172c1cc",
   "metadata": {},
   "source": [
    "### How to Create a Conda Environment  \n",
    "\n",
    "- Install [Anaconda](https://www.anaconda.com/download) or [Miniconda](https://docs.conda.io/en/latest/miniconda.html).  \n",
    "- Open terminal (or Anaconda Prompt).  \n",
    "- Create a new environment with Python version:  \n",
    "  ```bash\n",
    "  conda create --name myenv python=3.10\n",
    ".."
   ]
  },
  {
   "cell_type": "code",
   "execution_count": null,
   "id": "7b274c06",
   "metadata": {
    "vscode": {
     "languageId": "plaintext"
    }
   },
   "outputs": [],
   "source": []
  }
 ],
 "metadata": {
  "language_info": {
   "name": "python"
  }
 },
 "nbformat": 4,
 "nbformat_minor": 5
}
